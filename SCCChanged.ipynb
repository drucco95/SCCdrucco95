{
  "nbformat": 4,
  "nbformat_minor": 0,
  "metadata": {
    "colab": {
      "name": "Checkpoint2.8.ipynb",
      "provenance": []
    },
    "kernelspec": {
      "name": "python3",
      "display_name": "Python 3"
    }
  },
  "cells": [
    {
      "cell_type": "code",
      "metadata": {
        "id": "PpdghVtJZzgb",
        "outputId": "4001b5f9-57b4-41f0-b045-bdfa4954694a",
        "colab": {
          "base_uri": "https://localhost:8080/"
        }
      },
      "source": [
        "#Checkpoint 2.8 (Question 1)\n",
        "\n",
        "#Part 1 (Create five variables to store)\n",
        "my_name = \"Derryck\"\n",
        "last_name = \"Dunn\"\n",
        "my_age = str(25)\n",
        "diam_of_circle = 2.9\n",
        "pi = 3.14159265359\n",
        "\n",
        "radius = (diam_of_circle / 2) #To help define the radius\n",
        "circle_area = str(pi * radius ** 2)\n",
        "\n",
        "#Part 2\n",
        "#print(\"My name is \" + my_name + \". I am \" + my_age + \" years old. And the area of a circle is \" + circle_area)\n",
        "\n",
        "print(\"My name is \" + my_name + \" \" + last_name + \". I am \" + str(my_age) + \" years old. And the area of the circle is \" + str(circle_area))"
      ],
      "execution_count": 2,
      "outputs": [
        {
          "output_type": "stream",
          "text": [
            "My name is Derryck Dunn. I am 25 years old. And the area of the circle is 6.605198554172976\n"
          ],
          "name": "stdout"
        }
      ]
    }
  ]
}